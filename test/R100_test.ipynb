{
  "nbformat": 4,
  "nbformat_minor": 0,
  "metadata": {
    "colab": {
      "name": "R100-test.ipynb",
      "provenance": []
    },
    "kernelspec": {
      "name": "python3",
      "display_name": "Python 3"
    },
    "language_info": {
      "name": "python"
    }
  },
  "cells": [
    {
      "cell_type": "markdown",
      "source": [
        "Download Test results of other competing models on R100H and R100L dataset (https://github.com/kuijiang94/MSPFN)\n"
      ],
      "metadata": {
        "id": "rwhLCMBRzkXp"
      }
    },
    {
      "cell_type": "code",
      "source": [
        "!wget \"https://hkustconnect-my.sharepoint.com/:u:/g/personal/nnanda_connect_ust_hk/EU6cmienC4VDtxTBde992fkB0wrfcmF3fulOftKRUu8gzg?download=1\" -O \"R100.rar\"\n",
        "!unrar x 'R100.rar' -idq"
      ],
      "metadata": {
        "colab": {
          "base_uri": "https://localhost:8080/"
        },
        "id": "1OZIm3ICqtQi",
        "outputId": "2362beba-dca4-4bfc-dc72-dad8e2b1d2a1"
      },
      "execution_count": 1,
      "outputs": [
        {
          "output_type": "stream",
          "name": "stdout",
          "text": [
            "--2022-03-28 18:32:37--  https://hkustconnect-my.sharepoint.com/:u:/g/personal/nnanda_connect_ust_hk/EU6cmienC4VDtxTBde992fkB0wrfcmF3fulOftKRUu8gzg?download=1\n",
            "Resolving hkustconnect-my.sharepoint.com (hkustconnect-my.sharepoint.com)... 13.107.136.9, 13.107.138.9\n",
            "Connecting to hkustconnect-my.sharepoint.com (hkustconnect-my.sharepoint.com)|13.107.136.9|:443... connected.\n",
            "HTTP request sent, awaiting response... 302 Found\n",
            "Location: /personal/nnanda_connect_ust_hk/Documents/DL/R100.rar?ga=1 [following]\n",
            "--2022-03-28 18:32:37--  https://hkustconnect-my.sharepoint.com/personal/nnanda_connect_ust_hk/Documents/DL/R100.rar?ga=1\n",
            "Reusing existing connection to hkustconnect-my.sharepoint.com:443.\n",
            "HTTP request sent, awaiting response... 200 OK\n",
            "Length: 344539101 (329M) [application/octet-stream]\n",
            "Saving to: ‘R100.rar’\n",
            "\n",
            "R100.rar            100%[===================>] 328.58M  42.1MB/s    in 9.8s    \n",
            "\n",
            "2022-03-28 18:32:48 (33.7 MB/s) - ‘R100.rar’ saved [344539101/344539101]\n",
            "\n"
          ]
        }
      ]
    },
    {
      "cell_type": "markdown",
      "source": [
        "Download the commonly used test rain datasets - R100H, R100L, TEST100, TEST1200, TEST2800 (https://github.com/kuijiang94/MSPFN)"
      ],
      "metadata": {
        "id": "_ONdcHpfzs38"
      }
    },
    {
      "cell_type": "code",
      "source": [
        "!wget \"https://hkustconnect-my.sharepoint.com/:u:/g/personal/nnanda_connect_ust_hk/EV4S00qm0Z1Kg2cY1RYlqisBduHynVyigG0hnHTU4hOWEw?download=1\" -O \"testimage.rar\"\n",
        "!unrar x 'testimage.rar' -idq"
      ],
      "metadata": {
        "colab": {
          "base_uri": "https://localhost:8080/"
        },
        "id": "VGZg-K0vuZ0H",
        "outputId": "fafdec7e-8292-43af-ea1d-7cb886d8aa9f"
      },
      "execution_count": 2,
      "outputs": [
        {
          "output_type": "stream",
          "name": "stdout",
          "text": [
            "--2022-03-28 18:32:50--  https://hkustconnect-my.sharepoint.com/:u:/g/personal/nnanda_connect_ust_hk/EV4S00qm0Z1Kg2cY1RYlqisBduHynVyigG0hnHTU4hOWEw?download=1\n",
            "Resolving hkustconnect-my.sharepoint.com (hkustconnect-my.sharepoint.com)... 13.107.136.9, 13.107.138.9\n",
            "Connecting to hkustconnect-my.sharepoint.com (hkustconnect-my.sharepoint.com)|13.107.136.9|:443... connected.\n",
            "HTTP request sent, awaiting response... 302 Found\n",
            "Location: /personal/nnanda_connect_ust_hk/Documents/DL/testimage.rar?ga=1 [following]\n",
            "--2022-03-28 18:32:51--  https://hkustconnect-my.sharepoint.com/personal/nnanda_connect_ust_hk/Documents/DL/testimage.rar?ga=1\n",
            "Reusing existing connection to hkustconnect-my.sharepoint.com:443.\n",
            "HTTP request sent, awaiting response... 200 OK\n",
            "Length: 2859483408 (2.7G) [application/octet-stream]\n",
            "Saving to: ‘testimage.rar’\n",
            "\n",
            "testimage.rar       100%[===================>]   2.66G  35.1MB/s    in 73s     \n",
            "\n",
            "2022-03-28 18:34:04 (37.3 MB/s) - ‘testimage.rar’ saved [2859483408/2859483408]\n",
            "\n"
          ]
        }
      ]
    }
  ]
}